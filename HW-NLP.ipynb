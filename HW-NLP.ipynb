{
 "cells": [
  {
   "cell_type": "markdown",
   "metadata": {},
   "source": [
    "Task 1. Reading the .txt file.\n",
    "\tOpen with the python open function the file “class_11_biology_chapter_1_0.txt” from the “TEST/biology” folder. Extract the full content of the file in one unique string at the lower case.\n",
    "NOTE: The following tasks should be done on the string in the lower case."
   ]
  },
  {
   "cell_type": "code",
   "execution_count": 245,
   "metadata": {},
   "outputs": [
    {
     "name": "stdout",
     "output_type": "stream",
     "text": [
      "chapter 1the living worldchapter 2biological classificationchapter 3plant kingdomchapter 4animal kingdom unit idiversity in the living worldbiology is the science of life forms and living processes. the living worldcomprises an amazing diversity of living organisms. early man couldeasily perceive the difference between inanimate matter and livingorganisms. early man deified some of the inanimate matter (wind, sea,fire etc.) and some among the animals and plants. a common feature ofall such forms of inanimate and animate objects was the sense of aweor fear that they evoked. the description of living organisms includinghuman beings began much later in human history. societies whichindulged in anthropocentric view of biology could register limitedprogress in biological knowledge. systematic and monumentaldescription of life forms brought in, out of necessity, detailed systemsof identification, nomenclature and classification. the biggest spin offof such studies was the recognition of the sharing of similarities amongliving organisms both horizontally and vertically. that all present dayliving organisms are related to each other and also to all organismsthat ever lived on this earth, was a revelation which humbled man andled to cultural movements for conservation of biodiversity. in thefollowing chapters of this unit, you will get a description, includingclassification, of animals and plants from a taxonomistâ€™s perspective.2019-2020\n"
     ]
    }
   ],
   "source": [
    "homework = open(\"class_11_biology_chapter_1_0.txt\")\n",
    "hw=homework.read().replace(\"\\n\", \"\")\n",
    "#hw=hw.replace(\" \", \"\")\n",
    "homework.close()\n",
    "hw=hw.lower()\n",
    "print(hw)"
   ]
  },
  {
   "cell_type": "markdown",
   "metadata": {},
   "source": [
    "Task 2. Obtain the file metadata.\n",
    "\tGet the following metadata about the content of the file.\n",
    "The number of sentences extracted by sent_tokenize from nltk.\n",
    "The number of unique tokens obtained with word_tokenize from nltk.\n",
    "The number of unique tokens obtained with casual_tokenize from nltk.\n",
    "The number of unique tokens obtained with MWETokenizer from nltk.\n",
    "The mean number of words (tokens) per sentence in the text by every tokenizer.\n",
    "HINT: Save the unique tokens obtained by every tokenizer in a set you will need it for the next task."
   ]
  },
  {
   "cell_type": "code",
   "execution_count": 246,
   "metadata": {},
   "outputs": [],
   "source": [
    "import nltk\n",
    "from nltk.tokenize import casual_tokenize\n",
    "from nltk.tokenize import word_tokenize\n",
    "from nltk.tokenize import MWETokenizer\n",
    "from nltk.tokenize import sent_tokenize"
   ]
  },
  {
   "cell_type": "code",
   "execution_count": 247,
   "metadata": {},
   "outputs": [
    {
     "data": {
      "text/plain": [
       "228"
      ]
     },
     "execution_count": 247,
     "metadata": {},
     "output_type": "execute_result"
    }
   ],
   "source": [
    "tokenize1=casual_tokenize(hw)\n",
    "len(tokenize1)"
   ]
  },
  {
   "cell_type": "code",
   "execution_count": 248,
   "metadata": {},
   "outputs": [
    {
     "data": {
      "text/plain": [
       "223"
      ]
     },
     "execution_count": 248,
     "metadata": {},
     "output_type": "execute_result"
    }
   ],
   "source": [
    "tokenize2=word_tokenize(hw)\n",
    "len(tokenize2)"
   ]
  },
  {
   "cell_type": "code",
   "execution_count": 249,
   "metadata": {},
   "outputs": [
    {
     "data": {
      "text/plain": [
       "200"
      ]
     },
     "execution_count": 249,
     "metadata": {},
     "output_type": "execute_result"
    }
   ],
   "source": [
    "mwe=MWETokenizer()\n",
    "tokenize3=mwe.tokenize(hw.split())\n",
    "len(tokenize3)"
   ]
  },
  {
   "cell_type": "code",
   "execution_count": 250,
   "metadata": {},
   "outputs": [
    {
     "data": {
      "text/plain": [
       "12"
      ]
     },
     "execution_count": 250,
     "metadata": {},
     "output_type": "execute_result"
    }
   ],
   "source": [
    "tokenize4=sent_tokenize(hw)\n",
    "len(tokenize4)"
   ]
  },
  {
   "cell_type": "code",
   "execution_count": 251,
   "metadata": {},
   "outputs": [
    {
     "name": "stdout",
     "output_type": "stream",
     "text": [
      "2736\n"
     ]
    }
   ],
   "source": [
    "lista=0\n",
    "for sentence in tokenize4:\n",
    "    for word in tokenize1:\n",
    "        lista += 1\n",
    "print(lista)        \n",
    "        "
   ]
  },
  {
   "cell_type": "code",
   "execution_count": 252,
   "metadata": {},
   "outputs": [
    {
     "name": "stdout",
     "output_type": "stream",
     "text": [
      "{'this', 'kingdom', '3plant', 'ever', 'deified', 'taxonomistâ€™s', 'which', 'kingdomchapter', 'worldchapter', 'fire', 'history.', 'limitedprogress', 'amongliving', 'will', 'in,', 'human', 'perspective.2019-2020', 'biodiversity', 'plants', 'andled', 'conservation', 'horizontally', '.', 'earth,', 'from', 'history', 'are', 'livingorganisms', 'perceive', 's', 'such', 'diversity', 'view', 'description,', '2biological', 'beings', 'chapters', 'livingorganisms.', 'includinghuman', 'identification', 'earth', 'on', 'some', 'is', 'other', 'knowledge.', 'wind', 'worldbiology', 'amazing', 'animals', 'spin', 'unit', 'lived', 'necessity,', 'organisms.', 'systemsof', 'knowledge', 'fear', 'taxonomistâ', 'cultural', 'of', 'was', '€', 'brought', '(wind,', 'organismsthat', 'studies', 'began', 'classification.', 'dayliving', 'recognition', 'chapter', '™', 'you', 'perspective', 'much', 'classification', 'offof', 'thefollowing', 'life', 'register', 'out', 'a', 'revelation', 'evoked', 'common', 'vertically', 'man', 'includingclassification', 'science', 'each', 'description', 'ofall', 'feature', 'inanimate', 'an', 'processes', 'present', '4animal', 'difference', 'the', ',', 'biggest', 'in', 'sense', 'societies', 'to', 'idiversity', 'identification,', 'similarities', 'vertically.', 'animate', 'etc', 'biodiversity.', 'whichindulged', 'processes.', 'movements', 'sea,fire', '2019-2020', 'unit,', 'humbled', 'worldcomprises', 'all', 'organisms', 'plants.', 'also', 'systematic', '1the', 'that', 'get', 'matter', 'classificationchapter', 'objects', ')', 'biology', 'aweor', 'detailed', 'sharing', 'related', 'includingclassification,', 'living', 'forms', 'biological', 'among', 'evoked.', 'they', 'monumentaldescription', 'for', 'both', 'later', '(', 'could', 'and', 'etc.)', 'early', 'anthropocentric', 'sea', 'nomenclature', 'couldeasily', 'between', 'necessity'}\n"
     ]
    }
   ],
   "source": [
    "def Union(tokenize1, tokenize2, tokenize3):\n",
    "    final_set = set().union(tokenize1, tokenize2, tokenize3)\n",
    "    return final_set\n",
    "print(Union(tokenize1, tokenize2, tokenize3))\n",
    "tokenize_final=Union(tokenize1, tokenize2, tokenize3)"
   ]
  },
  {
   "cell_type": "markdown",
   "metadata": {},
   "source": [
    "Task 3. Comparing the Stemmers.\n",
    "\tGet the union of all unique tokens found by every tokenizer. Use this new created set to find the stemmed form of this token generated by every of the following stemmers - PorterStemmer, LancasterStemmer and SnowballStemmer. Save the result in a pandas DataFrame of the following form.\n",
    "\n",
    "original_token\n",
    "porter\n",
    "Lancaster\n",
    "Snowball\n",
    "token\n",
    "token\n",
    "token\n",
    "token\n",
    "\n",
    "\tCompare the result and differences of every stemmer."
   ]
  },
  {
   "cell_type": "code",
   "execution_count": 253,
   "metadata": {},
   "outputs": [],
   "source": [
    "from nltk.stem import PorterStemmer\n",
    "from nltk.stem import LancasterStemmer\n",
    "from nltk.stem import SnowballStemmer"
   ]
  },
  {
   "cell_type": "code",
   "execution_count": 254,
   "metadata": {},
   "outputs": [
    {
     "name": "stdout",
     "output_type": "stream",
     "text": [
      "['thi', 'kingdom', '3plant', 'ever', 'deifi', 'taxonomistâ€™', 'which', 'kingdomchapt', 'worldchapt', 'fire', 'history.', 'limitedprogress', 'amongliv', 'will', 'in,', 'human', 'perspective.2019-2020', 'biodivers', 'plant', 'andl', 'conserv', 'horizont', '.', 'earth,', 'from', 'histori', 'are', 'livingorgan', 'perceiv', 's', 'such', 'divers', 'view', 'description,', '2biolog', 'be', 'chapter', 'livingorganisms.', 'includinghuman', 'identif', 'earth', 'on', 'some', 'is', 'other', 'knowledge.', 'wind', 'worldbiolog', 'amaz', 'anim', 'spin', 'unit', 'live', 'necessity,', 'organisms.', 'systemsof', 'knowledg', 'fear', 'taxonomistâ', 'cultur', 'of', 'wa', '€', 'brought', '(wind,', 'organismsthat', 'studi', 'began', 'classification.', 'dayliv', 'recognit', 'chapter', '™', 'you', 'perspect', 'much', 'classif', 'offof', 'thefollow', 'life', 'regist', 'out', 'a', 'revel', 'evok', 'common', 'vertic', 'man', 'includingclassif', 'scienc', 'each', 'descript', 'ofal', 'featur', 'inanim', 'an', 'process', 'present', '4anim', 'differ', 'the', ',', 'biggest', 'in', 'sens', 'societi', 'to', 'idivers', 'identification,', 'similar', 'vertically.', 'anim', 'etc', 'biodiversity.', 'whichindulg', 'processes.', 'movement', 'sea,fir', '2019-2020', 'unit,', 'humbl', 'worldcompris', 'all', 'organ', 'plants.', 'also', 'systemat', '1the', 'that', 'get', 'matter', 'classificationchapt', 'object', ')', 'biolog', 'aweor', 'detail', 'share', 'relat', 'includingclassification,', 'live', 'form', 'biolog', 'among', 'evoked.', 'they', 'monumentaldescript', 'for', 'both', 'later', '(', 'could', 'and', 'etc.)', 'earli', 'anthropocentr', 'sea', 'nomenclatur', 'couldeasili', 'between', 'necess']\n"
     ]
    },
    {
     "data": {
      "text/plain": [
       "list"
      ]
     },
     "execution_count": 254,
     "metadata": {},
     "output_type": "execute_result"
    }
   ],
   "source": [
    "porter=PorterStemmer()\n",
    "stemmer1=[porter.stem(token) for token in tokenize_final]\n",
    "print(stemmer1)\n",
    "type(stemmer1)"
   ]
  },
  {
   "cell_type": "code",
   "execution_count": 255,
   "metadata": {},
   "outputs": [
    {
     "name": "stdout",
     "output_type": "stream",
     "text": [
      "['thi', 'kingdom', '3plant', 'ev', 'deify', 'taxonomistâ€™s', 'which', 'kingdomchapt', 'worldchapt', 'fir', 'history.', 'limitedprogress', 'amongl', 'wil', 'in,', 'hum', 'perspective.2019-2020', 'biodivers', 'plant', 'andl', 'conserv', 'horizont', '.', 'earth,', 'from', 'hist', 'ar', 'livingorg', 'perceiv', 's', 'such', 'divers', 'view', 'description,', '2biological', 'being', 'chapt', 'livingorganisms.', 'includinghum', 'id', 'ear', 'on', 'som', 'is', 'oth', 'knowledge.', 'wind', 'worldbiolog', 'amaz', 'anim', 'spin', 'unit', 'liv', 'necessity,', 'organisms.', 'systemsof', 'knowledg', 'fear', 'taxonomistâ', 'cult', 'of', 'was', '€', 'brought', '(wind,', 'organismsth', 'study', 'beg', 'classification.', 'dayl', 'recognit', 'chapt', '™', 'you', 'perspect', 'much', 'class', 'offof', 'thefollow', 'lif', 'reg', 'out', 'a', 'revel', 'evok', 'common', 'vert', 'man', 'includingclass', 'sci', 'each', 'describ', 'ofal', 'feat', 'inanim', 'an', 'process', 'pres', '4animal', 'diff', 'the', ',', 'biggest', 'in', 'sens', 'socy', 'to', 'idivers', 'identification,', 'simil', 'vertically.', 'anim', 'etc', 'biodiversity.', 'whichindulg', 'processes.', 'mov', 'sea,fire', '2019-2020', 'unit,', 'humbl', 'worldcompr', 'al', 'org', 'plants.', 'also', 'system', '1the', 'that', 'get', 'mat', 'classificationchapt', 'object', ')', 'biolog', 'aw', 'detail', 'shar', 'rel', 'includingclassification,', 'liv', 'form', 'biolog', 'among', 'evoked.', 'they', 'monumentaldescrib', 'for', 'both', 'lat', '(', 'could', 'and', 'etc.)', 'ear', 'anthropoc', 'sea', 'nomenc', 'couldeasy', 'between', 'necess']\n"
     ]
    }
   ],
   "source": [
    "lancaster=LancasterStemmer()\n",
    "stemmer2=[lancaster.stem(token) for token in tokenize_final]\n",
    "print(stemmer2)"
   ]
  },
  {
   "cell_type": "code",
   "execution_count": 256,
   "metadata": {},
   "outputs": [
    {
     "name": "stdout",
     "output_type": "stream",
     "text": [
      "['this', 'kingdom', '3plant', 'ever', 'deifi', 'taxonomistâ€™', 'which', 'kingdomchapt', 'worldchapt', 'fire', 'history.', 'limitedprogress', 'amongliv', 'will', 'in,', 'human', 'perspective.2019-2020', 'biodivers', 'plant', 'andl', 'conserv', 'horizont', '.', 'earth,', 'from', 'histori', 'are', 'livingorgan', 'perceiv', 's', 'such', 'divers', 'view', 'description,', '2biolog', 'be', 'chapter', 'livingorganisms.', 'includinghuman', 'identif', 'earth', 'on', 'some', 'is', 'other', 'knowledge.', 'wind', 'worldbiolog', 'amaz', 'anim', 'spin', 'unit', 'live', 'necessity,', 'organisms.', 'systemsof', 'knowledg', 'fear', 'taxonomistâ', 'cultur', 'of', 'was', '€', 'brought', '(wind,', 'organismsthat', 'studi', 'began', 'classification.', 'dayliv', 'recognit', 'chapter', '™', 'you', 'perspect', 'much', 'classif', 'offof', 'thefollow', 'life', 'regist', 'out', 'a', 'revel', 'evok', 'common', 'vertic', 'man', 'includingclassif', 'scienc', 'each', 'descript', 'ofal', 'featur', 'inanim', 'an', 'process', 'present', '4anim', 'differ', 'the', ',', 'biggest', 'in', 'sens', 'societi', 'to', 'idivers', 'identification,', 'similar', 'vertically.', 'anim', 'etc', 'biodiversity.', 'whichindulg', 'processes.', 'movement', 'sea,fir', '2019-2020', 'unit,', 'humbl', 'worldcompris', 'all', 'organ', 'plants.', 'also', 'systemat', '1the', 'that', 'get', 'matter', 'classificationchapt', 'object', ')', 'biolog', 'aweor', 'detail', 'share', 'relat', 'includingclassification,', 'live', 'form', 'biolog', 'among', 'evoked.', 'they', 'monumentaldescript', 'for', 'both', 'later', '(', 'could', 'and', 'etc.)', 'earli', 'anthropocentr', 'sea', 'nomenclatur', 'couldeasili', 'between', 'necess']\n"
     ]
    }
   ],
   "source": [
    "snowball=SnowballStemmer('english')\n",
    "stemmer3=[snowball.stem(token) for token in tokenize_final]\n",
    "print(stemmer3)"
   ]
  },
  {
   "cell_type": "code",
   "execution_count": 257,
   "metadata": {},
   "outputs": [
    {
     "name": "stdout",
     "output_type": "stream",
     "text": [
      "                                                       words\n",
      "Original   {this, kingdom, 3plant, ever, deified, taxonom...\n",
      "Porter     [thi, kingdom, 3plant, ever, deifi, taxonomist...\n",
      "Lancaster  [thi, kingdom, 3plant, ev, deify, taxonomistâ€...\n",
      "Snowball   [this, kingdom, 3plant, ever, deifi, taxonomis...\n"
     ]
    }
   ],
   "source": [
    "import pandas as pd\n",
    "df = pd.DataFrame([[tokenize_final],[stemmer1],[stemmer2],[stemmer3]],index=['Original','Porter','Lancaster', 'Snowball'],columns=['words'])\n",
    "print(df)"
   ]
  },
  {
   "cell_type": "markdown",
   "metadata": {},
   "source": [
    "Task 4. Frequencies of words.\n",
    "\tUsing the lower case string obtained from the file, get the frequencies of the word. What are the 10 most frequent tokens? \n",
    "\tExtract the list of the hapaxes.\n",
    "\tPlot the frequency of the words in the descending order as a scatter plot, How similar it is to the zipf law? Why?"
   ]
  },
  {
   "cell_type": "code",
   "execution_count": 258,
   "metadata": {},
   "outputs": [
    {
     "data": {
      "text/plain": [
       "[('of', 14),\n",
       " ('.', 12),\n",
       " ('the', 11),\n",
       " ('and', 10),\n",
       " (',', 9),\n",
       " ('living', 6),\n",
       " ('in', 6),\n",
       " ('organisms', 4),\n",
       " ('a', 4),\n",
       " ('forms', 3)]"
      ]
     },
     "execution_count": 258,
     "metadata": {},
     "output_type": "execute_result"
    }
   ],
   "source": [
    "from nltk import FreqDist\n",
    "freq_dist=FreqDist(tokenize1)\n",
    "freq_dist.most_common(10)"
   ]
  },
  {
   "cell_type": "code",
   "execution_count": 259,
   "metadata": {},
   "outputs": [
    {
     "data": {
      "text/plain": [
       "['chapter',\n",
       " '1the',\n",
       " 'worldchapter',\n",
       " '2biological',\n",
       " 'classificationchapter',\n",
       " '3plant',\n",
       " 'kingdomchapter',\n",
       " '4animal',\n",
       " 'kingdom',\n",
       " 'idiversity',\n",
       " 'worldbiology',\n",
       " 'is',\n",
       " 'science',\n",
       " 'processes',\n",
       " 'worldcomprises',\n",
       " 'an',\n",
       " 'amazing',\n",
       " 'diversity',\n",
       " 'couldeasily',\n",
       " 'perceive',\n",
       " 'difference',\n",
       " 'between',\n",
       " 'livingorganisms',\n",
       " 'deified',\n",
       " '(',\n",
       " 'wind',\n",
       " 'sea',\n",
       " 'fire',\n",
       " 'etc',\n",
       " ')',\n",
       " 'among',\n",
       " 'common',\n",
       " 'feature',\n",
       " 'ofall',\n",
       " 'animate',\n",
       " 'objects',\n",
       " 'sense',\n",
       " 'aweor',\n",
       " 'fear',\n",
       " 'they',\n",
       " 'evoked',\n",
       " 'includinghuman',\n",
       " 'beings',\n",
       " 'began',\n",
       " 'much',\n",
       " 'later',\n",
       " 'human',\n",
       " 'history',\n",
       " 'societies',\n",
       " 'whichindulged',\n",
       " 'anthropocentric',\n",
       " 'view',\n",
       " 'biology',\n",
       " 'could',\n",
       " 'register',\n",
       " 'limitedprogress',\n",
       " 'biological',\n",
       " 'knowledge',\n",
       " 'systematic',\n",
       " 'monumentaldescription',\n",
       " 'brought',\n",
       " 'out',\n",
       " 'necessity',\n",
       " 'detailed',\n",
       " 'systemsof',\n",
       " 'identification',\n",
       " 'nomenclature',\n",
       " 'classification',\n",
       " 'biggest',\n",
       " 'spin',\n",
       " 'offof',\n",
       " 'studies',\n",
       " 'recognition',\n",
       " 'sharing',\n",
       " 'similarities',\n",
       " 'amongliving',\n",
       " 'both',\n",
       " 'horizontally',\n",
       " 'vertically',\n",
       " 'present',\n",
       " 'dayliving',\n",
       " 'are',\n",
       " 'related',\n",
       " 'each',\n",
       " 'other',\n",
       " 'also',\n",
       " 'organismsthat',\n",
       " 'ever',\n",
       " 'lived',\n",
       " 'on',\n",
       " 'earth',\n",
       " 'revelation',\n",
       " 'which',\n",
       " 'humbled',\n",
       " 'andled',\n",
       " 'cultural',\n",
       " 'movements',\n",
       " 'for',\n",
       " 'conservation',\n",
       " 'biodiversity',\n",
       " 'thefollowing',\n",
       " 'chapters',\n",
       " 'you',\n",
       " 'will',\n",
       " 'get',\n",
       " 'includingclassification',\n",
       " 'from',\n",
       " 'taxonomistâ',\n",
       " '€',\n",
       " '™',\n",
       " 's',\n",
       " 'perspective',\n",
       " '2019-2020']"
      ]
     },
     "execution_count": 259,
     "metadata": {},
     "output_type": "execute_result"
    }
   ],
   "source": [
    "freq_dist.hapaxes()"
   ]
  },
  {
   "cell_type": "code",
   "execution_count": 260,
   "metadata": {},
   "outputs": [],
   "source": [
    "import matplotlib.pyplot as plt"
   ]
  },
  {
   "cell_type": "markdown",
   "metadata": {},
   "source": [
    "Task 5. Part of speech tagging.\n",
    "\tExtract from the text the part of speech of every token, and group them in dictionary with the following form:\n",
    "\t\n",
    "\t{“POS” : [list of tokens with this POS] }\n",
    "\tWhat is the most common part of speech and why? What is the part of speech that has the smallest frequency?"
   ]
  },
  {
   "cell_type": "code",
   "execution_count": 262,
   "metadata": {},
   "outputs": [],
   "source": [
    "from nltk import pos_tag"
   ]
  },
  {
   "cell_type": "code",
   "execution_count": 263,
   "metadata": {},
   "outputs": [
    {
     "name": "stdout",
     "output_type": "stream",
     "text": [
      "[('this', 'DT'), ('kingdom', 'NN'), ('3plant', 'CD'), ('ever', 'RB'), ('deified', 'VBN'), ('taxonomistâ€™s', 'NN'), ('which', 'WDT'), ('kingdomchapter', 'VBP'), ('worldchapter', 'NN'), ('fire', 'NN'), ('history.', 'NN'), ('limitedprogress', 'NN'), ('amongliving', 'VBG'), ('will', 'MD'), ('in,', 'VB'), ('human', 'JJ'), ('perspective.2019-2020', 'JJ'), ('biodiversity', 'NN'), ('plants', 'NNS'), ('andled', 'VBN'), ('conservation', 'NN'), ('horizontally', 'RB'), ('.', '.'), ('earth,', 'NN'), ('from', 'IN'), ('history', 'NN'), ('are', 'VBP'), ('livingorganisms', 'JJ'), ('perceive', 'JJ'), ('s', 'NN'), ('such', 'JJ'), ('diversity', 'NN'), ('view', 'NN'), ('description,', 'VBP'), ('2biological', 'JJ'), ('beings', 'NNS'), ('chapters', 'NNS'), ('livingorganisms.', 'VBP'), ('includinghuman', 'JJ'), ('identification', 'NN'), ('earth', 'NN'), ('on', 'IN'), ('some', 'DT'), ('is', 'VBZ'), ('other', 'JJ'), ('knowledge.', 'JJ'), ('wind', 'IN'), ('worldbiology', 'NN'), ('amazing', 'JJ'), ('animals', 'NNS'), ('spin', 'VBP'), ('unit', 'NN'), ('lived', 'VBD'), ('necessity,', 'JJ'), ('organisms.', 'JJ'), ('systemsof', 'NN'), ('knowledge', 'NN'), ('fear', 'NN'), ('taxonomistâ', 'JJ'), ('cultural', 'NN'), ('of', 'IN'), ('was', 'VBD'), ('€', 'JJ'), ('brought', 'JJ'), ('(wind,', 'NN'), ('organismsthat', 'IN'), ('studies', 'NNS'), ('began', 'VBD'), ('classification.', 'JJ'), ('dayliving', 'VBG'), ('recognition', 'NN'), ('chapter', 'NN'), ('™', 'NNP'), ('you', 'PRP'), ('perspective', 'VBP'), ('much', 'JJ'), ('classification', 'NN'), ('offof', 'IN'), ('thefollowing', 'VBG'), ('life', 'NN'), ('register', 'NN'), ('out', 'IN'), ('a', 'DT'), ('revelation', 'NN'), ('evoked', 'VBD'), ('common', 'JJ'), ('vertically', 'RB'), ('man', 'NN'), ('includingclassification', 'NN'), ('science', 'NN'), ('each', 'DT'), ('description', 'NN'), ('ofall', 'JJ'), ('feature', 'NN'), ('inanimate', 'VBP'), ('an', 'DT'), ('processes', 'JJ'), ('present', 'JJ'), ('4animal', 'CD'), ('difference', 'NN'), ('the', 'DT'), (',', ','), ('biggest', 'JJS'), ('in', 'IN'), ('sense', 'NN'), ('societies', 'NNS'), ('to', 'TO'), ('idiversity', 'VB'), ('identification,', 'JJ'), ('similarities', 'NNS'), ('vertically.', 'VBP'), ('animate', 'JJ'), ('etc', 'FW'), ('biodiversity.', 'NN'), ('whichindulged', 'VBD'), ('processes.', 'JJ'), ('movements', 'NNS'), ('sea,fire', 'VB'), ('2019-2020', 'JJ'), ('unit,', 'NN'), ('humbled', 'VBN'), ('worldcomprises', 'VBZ'), ('all', 'DT'), ('organisms', 'NNS'), ('plants.', 'VBP'), ('also', 'RB'), ('systematic', 'JJ'), ('1the', 'CD'), ('that', 'IN'), ('get', 'VBP'), ('matter', 'JJ'), ('classificationchapter', 'NN'), ('objects', 'NNS'), (')', ')'), ('biology', 'NN'), ('aweor', 'NN'), ('detailed', 'VBD'), ('sharing', 'VBG'), ('related', 'JJ'), ('includingclassification,', 'NN'), ('living', 'NN'), ('forms', 'NNS'), ('biological', 'JJ'), ('among', 'IN'), ('evoked.', 'JJ'), ('they', 'PRP'), ('monumentaldescription', 'NN'), ('for', 'IN'), ('both', 'DT'), ('later', 'JJ'), ('(', '('), ('could', 'MD'), ('and', 'CC'), ('etc.)', 'VB'), ('early', 'JJ'), ('anthropocentric', 'JJ'), ('sea', 'NN'), ('nomenclature', 'NN'), ('couldeasily', 'RB'), ('between', 'IN'), ('necessity', 'NN')]\n"
     ]
    },
    {
     "data": {
      "text/plain": [
       "list"
      ]
     },
     "execution_count": 263,
     "metadata": {},
     "output_type": "execute_result"
    }
   ],
   "source": [
    "pos=pos_tag(tokenize_final)\n",
    "for chunk in nltk.ne_chunk(pos):\n",
    "    if hasattr(chunk,'label'):\n",
    "        print(chunk.label)\n",
    "print(pos)        \n",
    "type(pos)"
   ]
  }
 ],
 "metadata": {
  "kernelspec": {
   "display_name": "Python 3",
   "language": "python",
   "name": "python3"
  },
  "language_info": {
   "codemirror_mode": {
    "name": "ipython",
    "version": 3
   },
   "file_extension": ".py",
   "mimetype": "text/x-python",
   "name": "python",
   "nbconvert_exporter": "python",
   "pygments_lexer": "ipython3",
   "version": "3.7.7"
  }
 },
 "nbformat": 4,
 "nbformat_minor": 4
}
